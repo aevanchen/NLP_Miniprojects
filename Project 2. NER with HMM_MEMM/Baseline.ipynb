{
 "cells": [
  {
   "cell_type": "markdown",
   "metadata": {},
   "source": [
    "# Import Libraries"
   ]
  },
  {
   "cell_type": "code",
   "execution_count": 208,
   "metadata": {},
   "outputs": [],
   "source": [
    "import numpy as np\n",
    "import random\n",
    "from collections import defaultdict, Counter"
   ]
  },
  {
   "cell_type": "markdown",
   "metadata": {},
   "source": [
    "# Configurations"
   ]
  },
  {
   "cell_type": "code",
   "execution_count": 209,
   "metadata": {},
   "outputs": [],
   "source": [
    "training_filename = 'train.txt'"
   ]
  },
  {
   "cell_type": "markdown",
   "metadata": {},
   "source": [
    "# Tokenize and Process File"
   ]
  },
  {
   "cell_type": "code",
   "execution_count": 210,
   "metadata": {},
   "outputs": [],
   "source": [
    "def process_file(file_name):\n",
    "    with open(file_name,'r') as file:\n",
    "        file_data = file.read();\n",
    "        file_lines = file_data.splitlines()\n",
    "                \n",
    "        sentences = []\n",
    "        pos_tags = []\n",
    "        ner_tags = []\n",
    "        \n",
    "        for i in range(0,len(file_lines),3):\n",
    "            sentences.append(file_lines[i].split('\\t'))\n",
    "            pos_tags.append(file_lines[i+1].split('\\t'))\n",
    "            ner_tags.append(file_lines[i+2].split('\\t'))\n",
    "            \n",
    "        \n",
    "        return sentences, pos_tags, ner_tags\n",
    "           "
   ]
  },
  {
   "cell_type": "markdown",
   "metadata": {},
   "source": [
    "# Create Training and Dev Set"
   ]
  },
  {
   "cell_type": "code",
   "execution_count": 211,
   "metadata": {},
   "outputs": [],
   "source": [
    "sentences_tr, pos_tags_tr, ner_tags_tr = process_file(training_filename)\n",
    "sentences_te, pos_tags_te, ner_tags_te = process_file(test_filename)\n",
    "nTr = len(sentences_tr)\n",
    "c=list(zip(sentences_tr, pos_tags_tr, ner_tags_tr))\n",
    "random.seed(1)\n",
    "random.shuffle(c)\n",
    "\n",
    "sentences_tr, pos_tags_tr, ner_tags_tr = zip(*c)\n",
    "\n",
    "split_point = int(0.9*nTr)\n",
    "\n",
    "#Validation Set\n",
    "sentences_val = sentences_tr[split_point:]\n",
    "pos_tags_val = pos_tags_tr[split_point:]\n",
    "ner_tags_val = ner_tags_tr[split_point:]\n",
    "\n",
    "\n",
    "sentences_tr = sentences_tr[:split_point]\n",
    "pos_tags_tr = pos_tags_tr[:split_point]\n",
    "ner_tags_tr = ner_tags_tr[:split_point]"
   ]
  },
  {
   "cell_type": "markdown",
   "metadata": {},
   "source": [
    "# Evaluation Functions"
   ]
  },
  {
   "cell_type": "code",
   "execution_count": 212,
   "metadata": {},
   "outputs": [],
   "source": [
    "def flatten_nested_lists(nested_lists):\n",
    "    result = []\n",
    "    \n",
    "    for list_ in nested_lists:\n",
    "        result+=list_\n",
    "    \n",
    "    return result\n",
    "\n",
    "def evaluate_model_span(predicted_seq, correct_seq):\n",
    "    T = len(predicted_seq)\n",
    "    \n",
    "    num_spans_pred = ['B-' in x for x in predicted_seq].count(True)\n",
    "    num_spans_ans = ['B-' in x for x in correct_seq].count(True)\n",
    "    \n",
    "    correct_pred=0\n",
    "    \n",
    "    for i in range(len(correct_seq)):\n",
    "        \n",
    "        if 'B-' in correct_seq[i]:\n",
    "            if correct_seq[i]==predicted_seq[i]:\n",
    "                flag=1;\n",
    "                tag_type = correct_seq[i][2:]\n",
    "                j=i+1\n",
    "                while( j<T and (correct_seq[j] == 'I-'+tag_type or predicted_seq[j] == 'I-'+tag_type)):\n",
    "                    if (correct_seq[j]!=predicted_seq[j]):\n",
    "                        flag=0;\n",
    "                    \n",
    "                    j=j+1             \n",
    "                \n",
    "                if(flag==1):\n",
    "                    correct_pred+=1;\n",
    "                               \n",
    "                i=j-1\n",
    "                \n",
    "                \n",
    "    precision = correct_pred/num_spans_pred;\n",
    "    recall = correct_pred/num_spans_ans;\n",
    "    \n",
    "    f_score = (2*precision*recall)/(precision+recall)\n",
    "                \n",
    "    return precision, recall, f_score     \n",
    "\n",
    "\n",
    "    "
   ]
  },
  {
   "cell_type": "markdown",
   "metadata": {},
   "source": [
    "# Baseline Algorithm1: Most Frequent Class"
   ]
  },
  {
   "cell_type": "code",
   "execution_count": 213,
   "metadata": {},
   "outputs": [],
   "source": [
    "# training function\n",
    "def most_frequent_class(words_tr, tags_tr):\n",
    "    words_tag_count = Counter(list(zip(words_tr, tags_tr)))\n",
    "    most_frequent_counts = {}\n",
    "    for (word, tag), count in words_tag_count.items():\n",
    "        if count > most_frequent_counts.get(word, (None, 0))[1]:\n",
    "            most_frequent_counts[word] = (tag, count)\n",
    "    most_frequent_tags = {k:v[0] for (k,v) in most_frequent_counts.items()}\n",
    "    return most_frequent_tags\n",
    "\n",
    "# predicting function\n",
    "def baseline_predict(words_list, most_frequent_tags):\n",
    "    prediction = [most_frequent_tags[word] if word in most_frequent_tags else 'O' for word in words_list]\n",
    "    return prediction"
   ]
  },
  {
   "cell_type": "code",
   "execution_count": 214,
   "metadata": {},
   "outputs": [],
   "source": [
    "# prepare training data and train model\n",
    "words_tr = flatten_nested_lists(sentences_tr)\n",
    "words_pos_tr = flatten_nested_lists(pos_tags_tr)\n",
    "words_ner_tr = flatten_nested_lists(ner_tags_tr)\n",
    "most_frequent_ner = most_frequent_class(words_tr, words_ner_tr)\n",
    "most_frequent_pos = most_frequent_class(words_tr, words_pos_tr)"
   ]
  },
  {
   "cell_type": "code",
   "execution_count": 215,
   "metadata": {},
   "outputs": [],
   "source": [
    "# prepare validation data and predict validation set\n",
    "words_val = flatten_nested_lists(sentences_val)\n",
    "predciton = baseline_predict(words_val, most_frequent_ner)\n",
    "answer_key = flatten_nested_lists(ner_tags_val)"
   ]
  },
  {
   "cell_type": "code",
   "execution_count": 216,
   "metadata": {},
   "outputs": [
    {
     "data": {
      "text/plain": [
       "(0.7155452436194896, 0.6660907127429806, 0.6899328859060402)"
      ]
     },
     "execution_count": 216,
     "metadata": {},
     "output_type": "execute_result"
    }
   ],
   "source": [
    "# evaluate the baseline performance\n",
    "evaluate_model_span(predciton, answer_key)\n",
    "# (precision, recall, f-score)"
   ]
  }
 ],
 "metadata": {
  "kernelspec": {
   "display_name": "Python 3",
   "language": "python",
   "name": "python3"
  },
  "language_info": {
   "codemirror_mode": {
    "name": "ipython",
    "version": 3
   },
   "file_extension": ".py",
   "mimetype": "text/x-python",
   "name": "python",
   "nbconvert_exporter": "python",
   "pygments_lexer": "ipython3",
   "version": "3.6.3"
  }
 },
 "nbformat": 4,
 "nbformat_minor": 2
}
