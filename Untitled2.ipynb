{
 "cells": [
  {
   "cell_type": "code",
   "execution_count": 4,
   "metadata": {},
   "outputs": [],
   "source": [
    "def findMin(nums):\n",
    "    low=0\n",
    "    high=len(nums)-1\n",
    "    def find_inflection(nums,low,high):\n",
    "        if high<low:\n",
    "            return 0\n",
    "        if high==low:\n",
    "            return 0\n",
    "\n",
    "        mid=int((high+low)/2)\n",
    "\n",
    "        if(mid<high and nums[mid]>nums[mid+1]):\n",
    "            return mid+1\n",
    "        elif(mid>low and nums[mid]<nums[mid-1] ):\n",
    "            return mid\n",
    "        elif(nums[low]>=nums[mid]):\n",
    "            return find_inflection(nums,low,mid-1)\n",
    "        return find_inflection(nums,mid+1,high)\n",
    "    inflection_point=find_inflection(nums,low,high)\n",
    "\n",
    "    return nums[inflection_point]"
   ]
  },
  {
   "cell_type": "code",
   "execution_count": 10,
   "metadata": {},
   "outputs": [
    {
     "data": {
      "text/plain": [
       "0"
      ]
     },
     "execution_count": 10,
     "metadata": {},
     "output_type": "execute_result"
    }
   ],
   "source": [
    "findMin([2,9,4,0,1,1,2,4,5,65,31,-23])"
   ]
  },
  {
   "cell_type": "code",
   "execution_count": 12,
   "metadata": {},
   "outputs": [
    {
     "data": {
      "text/plain": [
       "True"
      ]
     },
     "execution_count": 12,
     "metadata": {},
     "output_type": "execute_result"
    }
   ],
   "source": [
    "dict={}\n",
    "dict[1]=0\n",
    "dict.__contains__(1)"
   ]
  },
  {
   "cell_type": "code",
   "execution_count": 19,
   "metadata": {},
   "outputs": [],
   "source": [
    "def maxlengthsubarray(nums,k):\n",
    "    # store the sum of elements in subarray with start index of 0 and end index of j\n",
    "    # initialize the map to handle subarry starts at index 0\n",
    "    sum_map={}\n",
    "    sum_map[0]=-1\n",
    "    \n",
    "    sum=0\n",
    "    max_length_ending_index=-1\n",
    "    max_length=-1\n",
    "    \n",
    "    for i in range( len(nums)):\n",
    "        sum+=nums[i]\n",
    "        \n",
    "        # if the a sum occur at the first time then map the ending index to the dictionary dictionary \n",
    "        if not sum_map.__contains__(sum):\n",
    "            sum_map[sum]=i\n",
    "        \n",
    "        if sum_map.__contains__(sum-k) and max_length< i-sum_map[sum-k]:\n",
    "            max_length= i-sum_map[sum-k]\n",
    "            max_length_ending_index=i\n",
    "    return max_length, nums[max_length_ending_index-max_length:max_length_ending_index]"
   ]
  },
  {
   "cell_type": "code",
   "execution_count": 20,
   "metadata": {},
   "outputs": [
    {
     "data": {
      "text/plain": [
       "(4, [6, -5, 5, 3])"
      ]
     },
     "execution_count": 20,
     "metadata": {},
     "output_type": "execute_result"
    }
   ],
   "source": [
    "maxlengthsubarray([5,6,-5,5,3,5,3,-2,9],8)"
   ]
  },
  {
   "cell_type": "code",
   "execution_count": null,
   "metadata": {},
   "outputs": [],
   "source": []
  }
 ],
 "metadata": {
  "kernelspec": {
   "display_name": "Python 3",
   "language": "python",
   "name": "python3"
  },
  "language_info": {
   "codemirror_mode": {
    "name": "ipython",
    "version": 3
   },
   "file_extension": ".py",
   "mimetype": "text/x-python",
   "name": "python",
   "nbconvert_exporter": "python",
   "pygments_lexer": "ipython3",
   "version": "3.7.3"
  }
 },
 "nbformat": 4,
 "nbformat_minor": 2
}
